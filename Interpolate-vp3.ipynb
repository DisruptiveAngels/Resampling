{
 "cells": [
  {
   "cell_type": "markdown",
   "metadata": {},
   "source": [
    "Programa para hacer upsampling de una serie de datos no equidistantes"
   ]
  },
  {
   "cell_type": "code",
   "execution_count": 1,
   "metadata": {},
   "outputs": [],
   "source": [
    "import numpy as np\n",
    "import pandas as pd\n",
    "from pandas import Timestamp\n",
    "import matplotlib.pyplot as plt"
   ]
  },
  {
   "cell_type": "code",
   "execution_count": 2,
   "metadata": {},
   "outputs": [],
   "source": [
    "def get_peak_out(ts):\n",
    "    l_i = []\n",
    "    i = 0\n",
    "    for date, val in ts.iteritems():\n",
    "        if i:\n",
    "            if ((ts[i] - ts[i-1]) > 30):\n",
    "                l_i.append(str(date))\n",
    "        i = i + 1\n",
    "\n",
    "    for elem in l_i:\n",
    "        ts = ts.drop(Timestamp(elem))\n",
    "    return ts"
   ]
  },
  {
   "cell_type": "code",
   "execution_count": 3,
   "metadata": {},
   "outputs": [
    {
     "data": {
      "text/plain": [
       "\"\\n#DATOS PRESION (CON RUIDO)\\ndatafile = 'G3922-02_vp3_pressure.csv' # Archivo a Interpolar\\ndatafile = 'G3968-02_vp3_pressure.csv' # Archivo a Interpolar\\ndatafile = 'G3875-03_vp3_pressure.csv' # Archivo a Interpolar\\ndatafile = 'G3921-03_vp3_pressure.csv' # Archivo a Interpolar\\ndatafile = 'G3965-01_vp3_pressure.csv' # Archivo a Interpolar\\ndatafile = 'G3965-02_vp3_pressure.csv' # Archivo a Interpolar\\ndatafile = 'G4016-01_vp3_pressure.csv' # Archivo a Interpolar\\ndatafile = 'G3469-02_vp3_pressure.csv' # Archivo a Interpolar\\ndatafile = 'G3469-02_vp3_pressure.csv' # Archivo a Interpolar\\ndatafile = 'G3485-01_vp3_pressure.csv' # Archivo a Interpolar\\n\\n#DATOS PRESION (OK)\\ndatafile = 'G3922-02_vp3_termopar9.csv' # Archivo a Interpolar\\ndatafile = 'G3968-02_vp3_termopar9.csv' # Archivo a Interpolar\\ndatafile = 'G3875-03_vp3_termopar9.csv' # Archivo a Interpolar\\ndatafile = 'G3921-03_vp3_termopar9.csv' # Archivo a Interpolar\\ndatafile = 'G3965-01_vp3_termopar9.csv' # Archivo a Interpolar\\ndatafile = 'G3965-02_vp3_termopar9.csv' # Archivo a Interpolar\\ndatafile = 'G4016-01_vp3_termopar9.csv' # Archivo a Interpolar\\ndatafile = 'G3469-02_vp3_termopar9.csv' # Archivo a Interpolar\\ndatafile = 'G3469-02_vp3_termopar9.csv' # Archivo a Interpolar\\ndatafile = 'G3485-01_vp3_termopar9.csv' # Archivo a Interpolar\\n\""
      ]
     },
     "execution_count": 3,
     "metadata": {},
     "output_type": "execute_result"
    }
   ],
   "source": [
    "\"\"\"\n",
    "#DATOS PRESION (CON RUIDO)\n",
    "datafile = 'G3922-02_vp3_pressure.csv' # Archivo a Interpolar\n",
    "datafile = 'G3968-02_vp3_pressure.csv' # Archivo a Interpolar\n",
    "datafile = 'G3875-03_vp3_pressure.csv' # Archivo a Interpolar\n",
    "datafile = 'G3921-03_vp3_pressure.csv' # Archivo a Interpolar\n",
    "datafile = 'G3965-01_vp3_pressure.csv' # Archivo a Interpolar\n",
    "datafile = 'G3965-02_vp3_pressure.csv' # Archivo a Interpolar\n",
    "datafile = 'G4016-01_vp3_pressure.csv' # Archivo a Interpolar\n",
    "datafile = 'G3469-02_vp3_pressure.csv' # Archivo a Interpolar\n",
    "datafile = 'G3469-02_vp3_pressure.csv' # Archivo a Interpolar\n",
    "datafile = 'G3485-01_vp3_pressure.csv' # Archivo a Interpolar\n",
    "\n",
    "#DATOS PRESION (OK)\n",
    "datafile = 'G3922-02_vp3_termopar9.csv' # Archivo a Interpolar\n",
    "datafile = 'G3968-02_vp3_termopar9.csv' # Archivo a Interpolar\n",
    "datafile = 'G3875-03_vp3_termopar9.csv' # Archivo a Interpolar\n",
    "datafile = 'G3921-03_vp3_termopar9.csv' # Archivo a Interpolar\n",
    "datafile = 'G3965-01_vp3_termopar9.csv' # Archivo a Interpolar\n",
    "datafile = 'G3965-02_vp3_termopar9.csv' # Archivo a Interpolar\n",
    "datafile = 'G4016-01_vp3_termopar9.csv' # Archivo a Interpolar\n",
    "datafile = 'G3469-02_vp3_termopar9.csv' # Archivo a Interpolar\n",
    "datafile = 'G3469-02_vp3_termopar9.csv' # Archivo a Interpolar\n",
    "datafile = 'G3485-01_vp3_termopar9.csv' # Archivo a Interpolar\n",
    "\"\"\""
   ]
  },
  {
   "cell_type": "code",
   "execution_count": 4,
   "metadata": {},
   "outputs": [
    {
     "data": {
      "text/plain": [
       "(59426, 2)"
      ]
     },
     "execution_count": 4,
     "metadata": {},
     "output_type": "execute_result"
    }
   ],
   "source": [
    "datafile = 'G4016-01_vp3_termopar9.csv' # Archivo a Interpolar\n",
    "directory = './VP3/'\n",
    "df = pd.read_csv(directory + datafile)                 # Directorio\n",
    "df.shape"
   ]
  },
  {
   "cell_type": "markdown",
   "metadata": {},
   "source": [
    "df1 = df[:len(df)//2]\n",
    "df2 = df[len(df)//2:]\n",
    "df = df2"
   ]
  },
  {
   "cell_type": "markdown",
   "metadata": {},
   "source": [
    "df = df2\n",
    "indice = np.argmax(df[\"data\"])\n",
    "print(df[\"data\"][indice])\n",
    "del df[\"data\"][indice]\n",
    "indice = np.argmax(df[\"data\"])\n",
    "print(df[\"data\"][indice])"
   ]
  },
  {
   "cell_type": "code",
   "execution_count": 5,
   "metadata": {},
   "outputs": [],
   "source": [
    "df.columns = ['timestamps','values']\n",
    "timestamps = pd.to_datetime(df['timestamps'].values)\n",
    "values = df['values'].values\n",
    "\n",
    "#------ Tambien puedes interpolar valores en especifico------#\n",
    "#values = [722.46,5]\n",
    "#timestamps = pd.to_datetime(['4/22/2018 4:00:02','4/22/2018 14:00:00'])"
   ]
  },
  {
   "cell_type": "code",
   "execution_count": 6,
   "metadata": {},
   "outputs": [],
   "source": [
    "ts = pd.Series(values, index=timestamps)"
   ]
  },
  {
   "cell_type": "code",
   "execution_count": 7,
   "metadata": {},
   "outputs": [],
   "source": [
    "ts = ts[~ts.index.duplicated()]\n",
    "ts[ts==-1] = np.nan"
   ]
  },
  {
   "cell_type": "code",
   "execution_count": 8,
   "metadata": {},
   "outputs": [
    {
     "name": "stdout",
     "output_type": "stream",
     "text": [
      "59426\n",
      "56653\n",
      "54904\n",
      "53552\n",
      "52514\n",
      "51682\n",
      "51034\n",
      "50500\n",
      "50054\n",
      "49675\n",
      "49371\n",
      "49121\n",
      "48908\n",
      "48724\n",
      "48566\n",
      "48421\n",
      "48289\n",
      "48176\n",
      "48088\n",
      "48012\n",
      "47943\n",
      "47882\n",
      "47827\n",
      "47778\n",
      "47735\n",
      "47697\n",
      "47661\n",
      "47632\n",
      "47604\n",
      "47578\n",
      "47556\n",
      "47537\n",
      "47519\n",
      "47506\n",
      "47495\n",
      "47485\n",
      "47475\n",
      "47465\n",
      "47456\n",
      "47448\n",
      "47440\n",
      "47432\n",
      "47424\n",
      "47416\n",
      "47409\n",
      "47402\n",
      "47396\n",
      "47390\n",
      "47384\n",
      "47379\n",
      "47374\n",
      "47370\n",
      "47366\n",
      "47362\n",
      "47358\n",
      "47354\n",
      "47350\n",
      "47346\n",
      "47342\n",
      "47338\n"
     ]
    }
   ],
   "source": [
    "print(len(ts))\n",
    "while((len(ts) - len(get_peak_out(ts))) > 3):\n",
    "    ts = get_peak_out(ts)\n",
    "    print(len(ts))"
   ]
  },
  {
   "cell_type": "code",
   "execution_count": 9,
   "metadata": {},
   "outputs": [],
   "source": [
    "newFreq=ts.resample('2S').asfreq()"
   ]
  },
  {
   "cell_type": "code",
   "execution_count": 10,
   "metadata": {},
   "outputs": [
    {
     "data": {
      "image/png": "[encoded data removed]",
      "text/plain": [
       "<Figure size 432x288 with 1 Axes>"
      ]
     },
     "metadata": {},
     "output_type": "display_data"
    }
   ],
   "source": [
    "new = (ts.reindex(ts.index | newFreq.index)\n",
    "           .interpolate(method='time')\n",
    "           .loc[newFreq.index])\n",
    "\n",
    "ts.plot(marker='o')\n",
    "new.plot(marker='+',markersize=15)\n",
    "\n",
    "new[newFreq.index].plot(marker='.')\n",
    "\n",
    "lines, labels = plt.gca().get_legend_handles_labels()\n",
    "labels = ['original values (nonequispaced)', 'original + interpolated at new frequency (nonequispaced)', 'interpolated values without original values (equispaced!)']\n",
    "plt.legend(lines, labels, loc='best')\n",
    "plt.show()"
   ]
  },
  {
   "cell_type": "code",
   "execution_count": 11,
   "metadata": {},
   "outputs": [
    {
     "data": {
      "text/plain": [
       "(572991,)"
      ]
     },
     "execution_count": 11,
     "metadata": {},
     "output_type": "execute_result"
    }
   ],
   "source": [
    "# Se guarda el nuevo archivo\n",
    "interpol = 'interpolated_2s_' + datafile\n",
    "new.to_csv('./VP3_outputs/' + interpol)\n",
    "new.shape"
   ]
  },
  {
   "cell_type": "code",
   "execution_count": 12,
   "metadata": {},
   "outputs": [],
   "source": [
    "# Smoothing this shit with Dr. P-pillo code\n",
    "import scipy.signal as signal"
   ]
  },
  {
   "cell_type": "code",
   "execution_count": 13,
   "metadata": {},
   "outputs": [
    {
     "data": {
      "text/plain": [
       "(572990,)"
      ]
     },
     "execution_count": 13,
     "metadata": {},
     "output_type": "execute_result"
    }
   ],
   "source": [
    "data_to_smooth = new[1:]\n",
    "new = new[1:]\n",
    "data_to_smooth.shape"
   ]
  },
  {
   "cell_type": "code",
   "execution_count": 14,
   "metadata": {},
   "outputs": [],
   "source": [
    "data_cp = new.copy()"
   ]
  },
  {
   "cell_type": "code",
   "execution_count": 15,
   "metadata": {},
   "outputs": [],
   "source": [
    "# apply low-pass filter\n",
    "smooth_plots = []\n",
    "# First, design the Buterworth filter\n",
    "order  = 2   # Filter order\n",
    "Wn = 0.1 # Cutoff frequency\n",
    "B, A = signal.butter(order, Wn, output='ba')\n",
    "smooth_plots = signal.filtfilt(B, A, data_to_smooth)\n",
    "#smooth_plots = a_valores.apply(lambda row: signal.filtfilt(B, A, row))"
   ]
  },
  {
   "cell_type": "code",
   "execution_count": 16,
   "metadata": {},
   "outputs": [
    {
     "data": {
      "image/png": "[encoded data removed]",
      "text/plain": [
       "<Figure size 1728x1152 with 2 Axes>"
      ]
     },
     "metadata": {},
     "output_type": "display_data"
    }
   ],
   "source": [
    "# plot current state vs result\n",
    "fig = plt.figure(figsize=(24, 16))\n",
    "\n",
    "ax1 = fig.add_subplot(221)\n",
    "ax1.set_title(\"Before\")\n",
    "ax1.plot(data_to_smooth)\n",
    "\n",
    "ax2 = fig.add_subplot(222)\n",
    "ax2.set_title(\"After\")\n",
    "ax2.plot(smooth_plots)\n",
    "\n",
    "plt.show()"
   ]
  },
  {
   "cell_type": "code",
   "execution_count": 17,
   "metadata": {},
   "outputs": [],
   "source": [
    "data_cp[0:] = smooth_plots\n",
    "if (data_cp == new).all(): #son iguales! D:\n",
    "    raise \"No se hizo bien el smooth\""
   ]
  },
  {
   "cell_type": "code",
   "execution_count": 18,
   "metadata": {},
   "outputs": [],
   "source": [
    "# Se guarda el nuevo archivo\n",
    "smooth = 'smoothed_2s_' + datafile\n",
    "new.to_csv('./VP3_outputs/' + smooth)"
   ]
  },
  {
   "cell_type": "code",
   "execution_count": 19,
   "metadata": {},
   "outputs": [],
   "source": [
    "df = pd.read_csv('./VP3_outputs/' + smooth)     # Directorio\n",
    "df.columns = ['timestamps','values']\n",
    "timestamps = pd.to_datetime(df['timestamps'].values)\n",
    "values = df['values'].values\n",
    "ts = pd.Series(values, index=timestamps)\n",
    "ts = ts[~ts.index.duplicated()]\n",
    "ts[ts==-1] = np.nan"
   ]
  },
  {
   "cell_type": "code",
   "execution_count": 20,
   "metadata": {},
   "outputs": [],
   "source": [
    "newFreq=ts.resample('300S').asfreq()"
   ]
  },
  {
   "cell_type": "code",
   "execution_count": 21,
   "metadata": {},
   "outputs": [
    {
     "data": {
      "image/png": "[encoded data removed]",
      "text/plain": [
       "<Figure size 432x288 with 1 Axes>"
      ]
     },
     "metadata": {},
     "output_type": "display_data"
    }
   ],
   "source": [
    "new = (ts.reindex(ts.index | newFreq.index)\n",
    "           .interpolate(method='time')\n",
    "           .loc[newFreq.index])\n",
    "\n",
    "ts.plot(marker='o')\n",
    "new.plot(marker='+',markersize=15)\n",
    "\n",
    "new[newFreq.index].plot(marker='.')\n",
    "\n",
    "lines, labels = plt.gca().get_legend_handles_labels()\n",
    "labels = ['original values (nonequispaced)', 'original + interpolated at new frequency (nonequispaced)', 'interpolated values without original values (equispaced!)']\n",
    "plt.legend(lines, labels, loc='best')\n",
    "plt.show()"
   ]
  },
  {
   "cell_type": "code",
   "execution_count": 22,
   "metadata": {},
   "outputs": [],
   "source": [
    "# Se guarda el nuevo archivo\n",
    "last = 'interpolated_5min_' + datafile\n",
    "new.to_csv('./VP3_outputs/' + last)"
   ]
  },
  {
   "cell_type": "code",
   "execution_count": null,
   "metadata": {},
   "outputs": [],
   "source": []
  }
 ],
 "metadata": {
  "kernelspec": {
   "display_name": "Python 3",
   "language": "python",
   "name": "python3"
  },
  "language_info": {
   "codemirror_mode": {
    "name": "ipython",
    "version": 3
   },
   "file_extension": ".py",
   "mimetype": "text/x-python",
   "name": "python",
   "nbconvert_exporter": "python",
   "pygments_lexer": "ipython3",
   "version": "3.5.2"
  }
 },
 "nbformat": 4,
 "nbformat_minor": 2
}
