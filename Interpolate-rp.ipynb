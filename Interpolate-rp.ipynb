{
 "cells": [
  {
   "cell_type": "markdown",
   "metadata": {},
   "source": [
    "Programa para hacer upsampling de una serie de datos no equidistantes"
   ]
  },
  {
   "cell_type": "code",
   "execution_count": 1,
   "metadata": {},
   "outputs": [],
   "source": [
    "import numpy as np\n",
    "import pandas as pd\n",
    "from pandas import Timestamp\n",
    "import matplotlib.pyplot as plt"
   ]
  },
  {
   "cell_type": "code",
   "execution_count": 2,
   "metadata": {},
   "outputs": [],
   "source": [
    "def get_peak_out(ts):\n",
    "    l_i = []\n",
    "    i = 0\n",
    "    for date, val in ts.iteritems():\n",
    "        if i:\n",
    "            if ((ts[i] - ts[i-1]) > 30):\n",
    "                l_i.append(str(date))\n",
    "        i = i + 1\n",
    "\n",
    "    for elem in l_i:\n",
    "        ts = ts.drop(Timestamp(elem))\n",
    "    return ts"
   ]
  },
  {
   "cell_type": "code",
   "execution_count": 3,
   "metadata": {},
   "outputs": [
    {
     "data": {
      "text/plain": [
       "\"\\ndatafile = 'G3922-02_reapriete.csv' # Archivo a Interpolar\\ndatafile = 'G3968-02_reapriete.csv' # Archivo a Interpolar\\ndatafile = 'G3875-03_reapriete.csv' # Archivo a Interpolar\\ndatafile = 'G3921-03_reapriete.csv' # Archivo a Interpolar\\ndatafile = 'G3965-01_reapriete.csv' # Archivo a Interpolar\\ndatafile = 'G3965-02_reapriete.csv' # Archivo a Interpolar\\ndatafile = 'G4016-01_reapriete.csv' # Archivo a Interpolar\\ndatafile = 'G3469-02_reapriete.csv' # Archivo a Interpolar\\ndatafile = 'G3909-01_reapriete.csv' # Archivo a Interpolar\\ndatafile = 'G3485-01_reapriete.csv' # Archivo a Interpolar\\n\""
      ]
     },
     "execution_count": 3,
     "metadata": {},
     "output_type": "execute_result"
    }
   ],
   "source": [
    "\"\"\"\n",
    "datafile = 'G3922-02_reapriete.csv' # Archivo a Interpolar\n",
    "datafile = 'G3968-02_reapriete.csv' # Archivo a Interpolar\n",
    "datafile = 'G3875-03_reapriete.csv' # Archivo a Interpolar\n",
    "datafile = 'G3921-03_reapriete.csv' # Archivo a Interpolar\n",
    "datafile = 'G3965-01_reapriete.csv' # Archivo a Interpolar\n",
    "datafile = 'G3965-02_reapriete.csv' # Archivo a Interpolar\n",
    "datafile = 'G4016-01_reapriete.csv' # Archivo a Interpolar\n",
    "datafile = 'G3469-02_reapriete.csv' # Archivo a Interpolar\n",
    "datafile = 'G3909-01_reapriete.csv' # Archivo a Interpolar\n",
    "datafile = 'G3485-01_reapriete.csv' # Archivo a Interpolar\n",
    "\"\"\""
   ]
  },
  {
   "cell_type": "code",
   "execution_count": 4,
   "metadata": {},
   "outputs": [
    {
     "data": {
      "text/plain": [
       "(57602, 2)"
      ]
     },
     "execution_count": 4,
     "metadata": {},
     "output_type": "execute_result"
    }
   ],
   "source": [
    "datafile = 'G3469-02_reapriete.csv' # Archivo a Interpolar\n",
    "directory = './RP/'\n",
    "df = pd.read_csv(directory + datafile)                 # Directorio\n",
    "\n",
    "#columnas = ['created', 'tp']\n",
    "#data_name = \"termopar\"\n",
    "columnas = ['created', 'pre']\n",
    "data_name = \"presion\"\n",
    "#columnas = ['created', 'hum']\n",
    "#data_name = \"humedad\"\n",
    "#columnas = ['created', 'amb']\n",
    "#data_name = \"ambiental\"\n",
    "\n",
    "filename = datafile.split(\".\")\n",
    "datafile = \"{}_{}.{}\".format(filename[0], data_name, filename[1])\n",
    "\n",
    "#filtra 0's del archivo\n",
    "df = df.loc[(df['pre'] > 0) & (df['hum'] > 0) & (df['amb'] > 0) & (df['amb'] > 0)]\n",
    "#filtra columnas innecesarias\n",
    "df = df.filter(items=columnas)\n",
    "\n",
    "df.shape"
   ]
  },
  {
   "cell_type": "markdown",
   "metadata": {},
   "source": [
    "df1 = df[:len(df)//2]\n",
    "df2 = df[len(df)//2:]\n",
    "df = df2"
   ]
  },
  {
   "cell_type": "markdown",
   "metadata": {},
   "source": [
    "df = df2\n",
    "indice = np.argmax(df[\"data\"])\n",
    "print(df[\"data\"][indice])\n",
    "del df[\"data\"][indice]\n",
    "indice = np.argmax(df[\"data\"])\n",
    "print(df[\"data\"][indice])"
   ]
  },
  {
   "cell_type": "code",
   "execution_count": 5,
   "metadata": {},
   "outputs": [],
   "source": [
    "df.columns = ['timestamps','values']\n",
    "timestamps = pd.to_datetime(df['timestamps'].values)\n",
    "values = df['values'].values\n",
    "\n",
    "#------ Tambien puedes interpolar valores en especifico------#\n",
    "#values = [722.46,5]\n",
    "#timestamps = pd.to_datetime(['4/22/2018 4:00:02','4/22/2018 14:00:00'])"
   ]
  },
  {
   "cell_type": "code",
   "execution_count": 6,
   "metadata": {},
   "outputs": [],
   "source": [
    "ts = pd.Series(values, index=timestamps)"
   ]
  },
  {
   "cell_type": "code",
   "execution_count": 7,
   "metadata": {},
   "outputs": [],
   "source": [
    "ts = ts[~ts.index.duplicated()]\n",
    "ts[ts==-1] = np.nan"
   ]
  },
  {
   "cell_type": "code",
   "execution_count": 8,
   "metadata": {},
   "outputs": [],
   "source": [
    "#print(len(ts))\n",
    "#while((len(ts) - len(get_peak_out(ts))) > 30):\n",
    "#    ts = get_peak_out(ts)\n",
    "#    print(len(ts))"
   ]
  },
  {
   "cell_type": "code",
   "execution_count": 9,
   "metadata": {},
   "outputs": [],
   "source": [
    "newFreq=ts.resample('2S').asfreq()"
   ]
  },
  {
   "cell_type": "code",
   "execution_count": 10,
   "metadata": {},
   "outputs": [
    {
     "data": {
      "image/png": "[encoded data removed]",
      "text/plain": [
       "<Figure size 432x288 with 1 Axes>"
      ]
     },
     "metadata": {},
     "output_type": "display_data"
    }
   ],
   "source": [
    "new = (ts.reindex(ts.index | newFreq.index)\n",
    "           .interpolate(method='time')\n",
    "           .loc[newFreq.index])\n",
    "\n",
    "ts.plot(marker='o')\n",
    "new.plot(marker='+',markersize=15)\n",
    "\n",
    "new[newFreq.index].plot(marker='.')\n",
    "\n",
    "lines, labels = plt.gca().get_legend_handles_labels()\n",
    "labels = ['original values (nonequispaced)', 'original + interpolated at new frequency (nonequispaced)', 'interpolated values without original values (equispaced!)']\n",
    "plt.legend(lines, labels, loc='best')\n",
    "plt.show()"
   ]
  },
  {
   "cell_type": "code",
   "execution_count": 11,
   "metadata": {},
   "outputs": [
    {
     "data": {
      "text/plain": [
       "(551245,)"
      ]
     },
     "execution_count": 11,
     "metadata": {},
     "output_type": "execute_result"
    }
   ],
   "source": [
    "# Se guarda el nuevo archivo\n",
    "interpol = 'interpolated_2s_' + datafile\n",
    "new.to_csv('./RP_outputs/' + interpol)\n",
    "new.shape"
   ]
  },
  {
   "cell_type": "code",
   "execution_count": 12,
   "metadata": {},
   "outputs": [],
   "source": [
    "# Smoothing this shit with Dr. P-pillo code\n",
    "import scipy.signal as signal"
   ]
  },
  {
   "cell_type": "code",
   "execution_count": 13,
   "metadata": {},
   "outputs": [
    {
     "data": {
      "text/plain": [
       "(551244,)"
      ]
     },
     "execution_count": 13,
     "metadata": {},
     "output_type": "execute_result"
    }
   ],
   "source": [
    "data_to_smooth = new[1:]\n",
    "new = new[1:]\n",
    "data_to_smooth.shape"
   ]
  },
  {
   "cell_type": "code",
   "execution_count": 14,
   "metadata": {},
   "outputs": [],
   "source": [
    "data_cp = new.copy()"
   ]
  },
  {
   "cell_type": "code",
   "execution_count": 15,
   "metadata": {},
   "outputs": [],
   "source": [
    "# apply low-pass filter\n",
    "smooth_plots = []\n",
    "# First, design the Buterworth filter\n",
    "order  = 2   # Filter order\n",
    "Wn = 0.1 # Cutoff frequency\n",
    "B, A = signal.butter(order, Wn, output='ba')\n",
    "smooth_plots = signal.filtfilt(B, A, data_to_smooth)\n",
    "#smooth_plots = a_valores.apply(lambda row: signal.filtfilt(B, A, row))"
   ]
  },
  {
   "cell_type": "code",
   "execution_count": 16,
   "metadata": {},
   "outputs": [
    {
     "data": {
      "image/png": "[encoded data removed]",
      "text/plain": [
       "<Figure size 1728x1152 with 2 Axes>"
      ]
     },
     "metadata": {},
     "output_type": "display_data"
    }
   ],
   "source": [
    "# plot current state vs result\n",
    "fig = plt.figure(figsize=(24, 16))\n",
    "\n",
    "ax1 = fig.add_subplot(221)\n",
    "ax1.set_title(\"Before\")\n",
    "ax1.plot(data_to_smooth)\n",
    "\n",
    "ax2 = fig.add_subplot(222)\n",
    "ax2.set_title(\"After\")\n",
    "ax2.plot(smooth_plots)\n",
    "\n",
    "plt.show()"
   ]
  },
  {
   "cell_type": "code",
   "execution_count": 17,
   "metadata": {},
   "outputs": [],
   "source": [
    "data_cp[0:] = smooth_plots\n",
    "if (data_cp == new).all(): #son iguales! D:\n",
    "    raise \"No se hizo bien el smooth\""
   ]
  },
  {
   "cell_type": "code",
   "execution_count": 18,
   "metadata": {},
   "outputs": [],
   "source": [
    "# Se guarda el nuevo archivo\n",
    "smooth = 'smoothed_2s_' + datafile\n",
    "new.to_csv('./RP_outputs/' + smooth)"
   ]
  },
  {
   "cell_type": "code",
   "execution_count": 19,
   "metadata": {},
   "outputs": [],
   "source": [
    "df = pd.read_csv('./RP_outputs/' + smooth)     # Directorio\n",
    "df.columns = ['timestamps','values']\n",
    "timestamps = pd.to_datetime(df['timestamps'].values)\n",
    "values = df['values'].values\n",
    "ts = pd.Series(values, index=timestamps)\n",
    "ts = ts[~ts.index.duplicated()]\n",
    "ts[ts==-1] = np.nan"
   ]
  },
  {
   "cell_type": "code",
   "execution_count": 20,
   "metadata": {},
   "outputs": [],
   "source": [
    "newFreq=ts.resample('300S').asfreq()"
   ]
  },
  {
   "cell_type": "code",
   "execution_count": null,
   "metadata": {},
   "outputs": [],
   "source": [
    "new = (ts.reindex(ts.index | newFreq.index)\n",
    "           .interpolate(method='time')\n",
    "           .loc[newFreq.index])\n",
    "\n",
    "ts.plot(marker='o')\n",
    "new.plot(marker='+',markersize=15)\n",
    "\n",
    "new[newFreq.index].plot(marker='.')\n",
    "\n",
    "lines, labels = plt.gca().get_legend_handles_labels()\n",
    "labels = ['original values (nonequispaced)', 'original + interpolated at new frequency (nonequispaced)', 'interpolated values without original values (equispaced!)']\n",
    "plt.legend(lines, labels, loc='best')\n",
    "plt.show()"
   ]
  },
  {
   "cell_type": "code",
   "execution_count": null,
   "metadata": {},
   "outputs": [],
   "source": [
    "# Se guarda el nuevo archivo\n",
    "last = 'interpolated_5min_' + datafile\n",
    "new.to_csv('./RP_outputs/' + last)"
   ]
  },
  {
   "cell_type": "code",
   "execution_count": null,
   "metadata": {},
   "outputs": [],
   "source": []
  }
 ],
 "metadata": {
  "kernelspec": {
   "display_name": "Python 3",
   "language": "python",
   "name": "python3"
  },
  "language_info": {
   "codemirror_mode": {
    "name": "ipython",
    "version": 3
   },
   "file_extension": ".py",
   "mimetype": "text/x-python",
   "name": "python",
   "nbconvert_exporter": "python",
   "pygments_lexer": "ipython3",
   "version": "3.5.2"
  }
 },
 "nbformat": 4,
 "nbformat_minor": 2
}
